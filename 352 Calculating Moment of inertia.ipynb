{
 "cells": [
  {
   "cell_type": "code",
   "execution_count": 2,
   "id": "cb90fb9d",
   "metadata": {},
   "outputs": [],
   "source": [
    "from sympy import *"
   ]
  },
  {
   "cell_type": "code",
   "execution_count": 3,
   "id": "6d04b613",
   "metadata": {},
   "outputs": [],
   "source": [
    "import numpy as np\n",
    "#masses, kilograms\n",
    "rotor_m = 0.15\n",
    "arm_m = 0.1\n",
    "battery = 0.15 * 2\n",
    "controller = 0.035\n",
    "sensor = 0.01\n",
    "center_frame = 0.455\n",
    "center_m = battery + controller + sensor + center_frame\n",
    "\n",
    "# Dimensions in m\n",
    "c_len = 0.08\n",
    "c_wid = 0.08\n",
    "c_hei = 0.08\n",
    "\n",
    "r_len = 0.03\n",
    "r_wid = 0.03\n",
    "r_hei = 0.028\n",
    "\n",
    "a_len = 0.150\n",
    "a_wid = 0.025\n",
    "a_hei = 0.025\n",
    "\n",
    "# Calculate total mass\n",
    "total_mass = rotor_m * 4 + arm_m * 4 + battery + controller + sensor + center_frame\n",
    "\n",
    "# Center of mass (quadcopter in symmetric on every axis)\n",
    "COM = [0, 0, 0]\n",
    "\n"
   ]
  },
  {
   "cell_type": "code",
   "execution_count": 6,
   "id": "7a04e290",
   "metadata": {},
   "outputs": [
    {
     "name": "stdout",
     "output_type": "stream",
     "text": [
      "Matrix([[0.00321350000000000, 0, 0], [0, 0.00321350000000000, 0], [0, 0, 0.00248433333333333]])\n"
     ]
    }
   ],
   "source": [
    "# Moment of inertia calculations\n",
    "I_xx =  (arm_m * (a_len**2 + a_wid**2) / 12 * 4 +\n",
    "        center_m * (c_len**2 + c_wid**2) / 6 +\n",
    "        battery * (c_len**2 + c_wid**2) / 6 +\n",
    "        controller * (c_len**2 + c_wid**2) / 6 +\n",
    "        sensor * (c_len**2 + c_wid**2) / 6)\n",
    "\n",
    "I_yy =  (arm_m * (a_len**2 + a_hei**2) / 12 * 4 +\n",
    "        center_m * (c_len**2 + c_hei**2) / 6 +\n",
    "        battery * (c_len**2 + c_hei**2) / 6 +\n",
    "        controller * (c_len**2 + c_hei**2) / 6 +\n",
    "        sensor * (c_len**2 + c_hei**2) / 6)\n",
    "\n",
    "I_zz =  (arm_m * (a_wid**2 + a_hei**2) / 12 * 4 +\n",
    "        center_m * (c_wid**2 + c_hei**2) / 6 +\n",
    "        battery * (c_wid**2 + c_hei**2) / 6 +\n",
    "        controller * (c_wid**2 + c_hei**2) / 6 +\n",
    "        sensor * (c_wid**2 + c_hei**2) / 6)\n",
    "\n",
    "\n",
    "I = Matrix([[I_xx, 0, 0],[0, I_yy, 0],[0, 0, I_zz]])\n",
    "# Print results\n",
    "print(I)"
   ]
  },
  {
   "cell_type": "code",
   "execution_count": null,
   "id": "95359866",
   "metadata": {},
   "outputs": [],
   "source": []
  },
  {
   "cell_type": "code",
   "execution_count": null,
   "id": "fc7d9f6f-1152-4a4e-b2ba-f64a55a05cc0",
   "metadata": {},
   "outputs": [],
   "source": []
  },
  {
   "cell_type": "code",
   "execution_count": null,
   "id": "d055fae1-15cc-459c-b919-1294f5517ff0",
   "metadata": {},
   "outputs": [],
   "source": []
  }
 ],
 "metadata": {
  "kernelspec": {
   "display_name": "Python 3 (ipykernel)",
   "language": "python",
   "name": "python3"
  },
  "language_info": {
   "codemirror_mode": {
    "name": "ipython",
    "version": 3
   },
   "file_extension": ".py",
   "mimetype": "text/x-python",
   "name": "python",
   "nbconvert_exporter": "python",
   "pygments_lexer": "ipython3",
   "version": "3.12.2"
  }
 },
 "nbformat": 4,
 "nbformat_minor": 5
}
