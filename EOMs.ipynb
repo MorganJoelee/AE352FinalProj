{
 "cells": [
  {
   "cell_type": "code",
   "execution_count": 24,
   "id": "3551799f",
   "metadata": {},
   "outputs": [],
   "source": [
    "from sympy import *\n",
    "import matplotlib.pyplot as plt\n",
    "import numpy as np\n",
    "from mpl_toolkits.mplot3d import Axes3D\n",
    "from matplotlib.animation import FuncAnimation"
   ]
  },
  {
   "cell_type": "code",
   "execution_count": 25,
   "id": "682a39f4",
   "metadata": {},
   "outputs": [
    {
     "data": {
      "text/latex": [
       "$\\displaystyle \\left[\\begin{matrix}\\cos{\\left(\\psi \\right)} \\cos{\\left(\\theta \\right)} & \\sin{\\left(\\phi \\right)} \\sin{\\left(\\theta \\right)} \\cos{\\left(\\psi \\right)} - \\sin{\\left(\\psi \\right)} \\cos{\\left(\\phi \\right)} & \\sin{\\left(\\phi \\right)} \\sin{\\left(\\psi \\right)} + \\sin{\\left(\\theta \\right)} \\cos{\\left(\\phi \\right)} \\cos{\\left(\\psi \\right)}\\\\\\sin{\\left(\\psi \\right)} \\cos{\\left(\\theta \\right)} & \\sin{\\left(\\phi \\right)} \\sin{\\left(\\psi \\right)} \\sin{\\left(\\theta \\right)} + \\cos{\\left(\\phi \\right)} \\cos{\\left(\\psi \\right)} & - \\sin{\\left(\\phi \\right)} \\cos{\\left(\\psi \\right)} + \\sin{\\left(\\psi \\right)} \\sin{\\left(\\theta \\right)} \\cos{\\left(\\phi \\right)}\\\\- \\sin{\\left(\\theta \\right)} & \\sin{\\left(\\phi \\right)} \\cos{\\left(\\theta \\right)} & \\cos{\\left(\\phi \\right)} \\cos{\\left(\\theta \\right)}\\end{matrix}\\right]$"
      ],
      "text/plain": [
       "Matrix([\n",
       "[cos(psi)*cos(theta), sin(phi)*sin(theta)*cos(psi) - sin(psi)*cos(phi),  sin(phi)*sin(psi) + sin(theta)*cos(phi)*cos(psi)],\n",
       "[sin(psi)*cos(theta), sin(phi)*sin(psi)*sin(theta) + cos(phi)*cos(psi), -sin(phi)*cos(psi) + sin(psi)*sin(theta)*cos(phi)],\n",
       "[        -sin(theta),                              sin(phi)*cos(theta),                               cos(phi)*cos(theta)]])"
      ]
     },
     "execution_count": 25,
     "metadata": {},
     "output_type": "execute_result"
    }
   ],
   "source": [
    "m = symbols('m') # mass\n",
    "l = symbols('l') #length of arm\n",
    "g = symbols('g') #gravity\n",
    "t = symbols('t') # time\n",
    "Jx = symbols('Jx') # Moment of Inertia X-component\n",
    "Jy = symbols('Jy') # Moment of Inertia Y-component\n",
    "Jz = symbols('Jz') # Moment of Inertia Z-component\n",
    "\n",
    "Fg = Matrix([[0],[0],[g*m]])\n",
    "\n",
    "p_x, p_y, p_z = symbols('p_x, p_y, p_z') # components of position \n",
    "psi, theta, phi = symbols('psi, theta, phi') # yaw, pitch and roll \n",
    "v_x, v_y, v_z = symbols('v_x, v_y, v_z') # components of linear velocity\n",
    "w_x, w_y, w_z = symbols('w_x, w_y, w_z') # components of angular velocity \n",
    "\n",
    "v_in_body = Matrix([v_x, v_y, v_z])\n",
    "w_in_body = Matrix([w_x, w_y, w_z])\n",
    "\n",
    "Rz = Matrix([[cos(psi), -sin(psi), 0], [sin(psi), cos(psi), 0], [0, 0, 1]])\n",
    "Ry = Matrix([[cos(theta), 0, sin(theta)], [0, 1, 0], [-sin(theta), 0, cos(theta)]])\n",
    "Rx = Matrix([[1, 0, 0], [0, cos(phi), -sin(phi)], [0, sin(phi), cos(phi)]])\n",
    "R_body_in_world = Rz @ Ry @ Rx\n",
    "\n",
    "\n",
    "R_body_in_world"
   ]
  },
  {
   "cell_type": "code",
   "execution_count": 26,
   "id": "f6d1806e",
   "metadata": {},
   "outputs": [
    {
     "data": {
      "text/latex": [
       "$\\displaystyle \\left[\\begin{matrix}1 & 0 & - \\sin{\\left(\\theta \\right)}\\\\0 & \\cos{\\left(\\phi \\right)} & \\sin{\\left(\\phi \\right)} \\cos{\\left(\\theta \\right)}\\\\0 & - \\sin{\\left(\\phi \\right)} & \\cos{\\left(\\phi \\right)} \\cos{\\left(\\theta \\right)}\\end{matrix}\\right]$"
      ],
      "text/plain": [
       "Matrix([\n",
       "[1,         0,         -sin(theta)],\n",
       "[0,  cos(phi), sin(phi)*cos(theta)],\n",
       "[0, -sin(phi), cos(phi)*cos(theta)]])"
      ]
     },
     "execution_count": 26,
     "metadata": {},
     "output_type": "execute_result"
    }
   ],
   "source": [
    "ex = Matrix([[1], [0], [0]])\n",
    "ey = Matrix([[0], [1], [0]])\n",
    "ez = Matrix([[0], [0], [1]])\n",
    "#M = simplify(Matrix.hstack((Ry @ Rx).T @ ez, Rx.T @ ey, ex).inv(), full=True)\n",
    "\n",
    "\n",
    "M_b = simplify(Matrix.hstack(ex,Rx.T @ ey, (Ry @ Rx).T @ ez), full = True)\n",
    "\n",
    "M_I = M_b.inv()\n",
    "\n",
    "Moment_of_Inertia = Matrix([[Jx,   0,   0],\n",
    "                            [  0, Jy,   0],\n",
    "                            [  0,   0, Jz]])\n",
    "\n",
    "\n",
    "A, rho = symbols('A, rho')\n",
    "\n",
    "\n",
    "T_x, T_y, T_z, f_z = symbols('T_x, T_y, T_z, f_z')\n",
    "w_1,w_2,w_3,w_4,b = symbols('w_1,w_2,w_3,w_4,b')\n",
    "\n",
    "#b = 1.140*10**(-7)\n",
    "\n",
    "f_z = k *(w_1**2 + w_2**2 + w_3**2 + w_4**2)\n",
    "T_x = k * l * (-w_2**2 + w_4**2)\n",
    "T_y = k * l * (-w_1**2 + w_3**2)\n",
    "T_z = b*(w_1**2 + w_2**2 + w_3**2 + w_4**2)\n",
    "\n",
    "\n",
    "Total_T = Matrix([[T_x],[T_y],[T_z]])\n",
    "\n",
    "Total_F = Matrix([[0],[0],[f_z]])\n",
    "\n",
    "M_b\n",
    "\n"
   ]
  },
  {
   "cell_type": "code",
   "execution_count": 27,
   "id": "72c6a14e",
   "metadata": {},
   "outputs": [
    {
     "data": {
      "text/latex": [
       "$\\displaystyle \\left[\\begin{matrix}v_{x} \\cos{\\left(\\psi \\right)} \\cos{\\left(\\theta \\right)} + v_{y} \\left(\\sin{\\left(\\phi \\right)} \\sin{\\left(\\theta \\right)} \\cos{\\left(\\psi \\right)} - \\sin{\\left(\\psi \\right)} \\cos{\\left(\\phi \\right)}\\right) + v_{z} \\left(\\sin{\\left(\\phi \\right)} \\sin{\\left(\\psi \\right)} + \\sin{\\left(\\theta \\right)} \\cos{\\left(\\phi \\right)} \\cos{\\left(\\psi \\right)}\\right)\\\\v_{x} \\sin{\\left(\\psi \\right)} \\cos{\\left(\\theta \\right)} + v_{y} \\left(\\sin{\\left(\\phi \\right)} \\sin{\\left(\\psi \\right)} \\sin{\\left(\\theta \\right)} + \\cos{\\left(\\phi \\right)} \\cos{\\left(\\psi \\right)}\\right) - v_{z} \\left(\\sin{\\left(\\phi \\right)} \\cos{\\left(\\psi \\right)} - \\sin{\\left(\\psi \\right)} \\sin{\\left(\\theta \\right)} \\cos{\\left(\\phi \\right)}\\right)\\\\- v_{x} \\sin{\\left(\\theta \\right)} + v_{y} \\sin{\\left(\\phi \\right)} \\cos{\\left(\\theta \\right)} + v_{z} \\cos{\\left(\\phi \\right)} \\cos{\\left(\\theta \\right)}\\\\w_{x} + w_{y} \\sin{\\left(\\phi \\right)} \\tan{\\left(\\theta \\right)} + w_{z} \\cos{\\left(\\phi \\right)} \\tan{\\left(\\theta \\right)}\\\\w_{y} \\cos{\\left(\\phi \\right)} - w_{z} \\sin{\\left(\\phi \\right)}\\\\\\frac{w_{y} \\sin{\\left(\\phi \\right)} + w_{z} \\cos{\\left(\\phi \\right)}}{\\cos{\\left(\\theta \\right)}}\\\\- g \\sin{\\left(\\theta \\right)} + v_{y} w_{z} - v_{z} w_{y}\\\\g \\sin{\\left(\\phi \\right)} \\cos{\\left(\\theta \\right)} - v_{x} w_{z} + v_{z} w_{x}\\\\\\frac{\\frac{A \\rho \\left(w_{1}^{2} + w_{2}^{2} + w_{3}^{2} + w_{4}^{2}\\right)}{2} + g m \\cos{\\left(\\phi \\right)} \\cos{\\left(\\theta \\right)} + m v_{x} w_{y} - m v_{y} w_{x}}{m}\\\\\\frac{- \\frac{A l \\rho \\left(w_{2}^{2} - w_{4}^{2}\\right)}{2} + Jy w_{y} w_{z} - Jz w_{y} w_{z}}{Jx}\\\\\\frac{- \\frac{A l \\rho \\left(w_{1}^{2} - w_{3}^{2}\\right)}{2} - Jx w_{x} w_{z} + Jz w_{x} w_{z}}{Jy}\\\\\\frac{Jx w_{x} w_{y} - Jy w_{x} w_{y} + b \\left(w_{1}^{2} + w_{2}^{2} + w_{3}^{2} + w_{4}^{2}\\right)}{Jz}\\end{matrix}\\right]$"
      ],
      "text/plain": [
       "Matrix([\n",
       "[v_x*cos(psi)*cos(theta) + v_y*(sin(phi)*sin(theta)*cos(psi) - sin(psi)*cos(phi)) + v_z*(sin(phi)*sin(psi) + sin(theta)*cos(phi)*cos(psi))],\n",
       "[v_x*sin(psi)*cos(theta) + v_y*(sin(phi)*sin(psi)*sin(theta) + cos(phi)*cos(psi)) - v_z*(sin(phi)*cos(psi) - sin(psi)*sin(theta)*cos(phi))],\n",
       "[                                                                      -v_x*sin(theta) + v_y*sin(phi)*cos(theta) + v_z*cos(phi)*cos(theta)],\n",
       "[                                                                                  w_x + w_y*sin(phi)*tan(theta) + w_z*cos(phi)*tan(theta)],\n",
       "[                                                                                                              w_y*cos(phi) - w_z*sin(phi)],\n",
       "[                                                                                                 (w_y*sin(phi) + w_z*cos(phi))/cos(theta)],\n",
       "[                                                                                                        -g*sin(theta) + v_y*w_z - v_z*w_y],\n",
       "[                                                                                                g*sin(phi)*cos(theta) - v_x*w_z + v_z*w_x],\n",
       "[                                        (A*rho*(w_1**2 + w_2**2 + w_3**2 + w_4**2)/2 + g*m*cos(phi)*cos(theta) + m*v_x*w_y - m*v_y*w_x)/m],\n",
       "[                                                                              (-A*l*rho*(w_2**2 - w_4**2)/2 + Jy*w_y*w_z - Jz*w_y*w_z)/Jx],\n",
       "[                                                                              (-A*l*rho*(w_1**2 - w_3**2)/2 - Jx*w_x*w_z + Jz*w_x*w_z)/Jy],\n",
       "[                                                                     (Jx*w_x*w_y - Jy*w_x*w_y + b*(w_1**2 + w_2**2 + w_3**2 + w_4**2))/Jz]])"
      ]
     },
     "execution_count": 27,
     "metadata": {},
     "output_type": "execute_result"
    }
   ],
   "source": [
    "\n",
    "Force_Body = (R_body_in_world.T @ Fg) + Total_F\n",
    "\n",
    "\n",
    "EoM = Matrix.vstack(\n",
    "    R_body_in_world @ v_in_body,\n",
    "    M_I @ w_in_body,\n",
    "    (1 / m) * (Force_Body - w_in_body.cross(m * v_in_body)),\n",
    "    Moment_of_Inertia.inv() @ (Total_T - w_in_body.cross(Moment_of_Inertia @ w_in_body)),\n",
    ")\n",
    "\n",
    "EoM = simplify(EoM) \n",
    "EoM"
   ]
  },
  {
   "cell_type": "code",
   "execution_count": 28,
   "id": "0fe21d0d",
   "metadata": {},
   "outputs": [],
   "source": []
  },
  {
   "cell_type": "code",
   "execution_count": null,
   "id": "40e6148c-0d24-4093-80d6-cb8c760564a0",
   "metadata": {},
   "outputs": [],
   "source": []
  }
 ],
 "metadata": {
  "kernelspec": {
   "display_name": "Python 3 (ipykernel)",
   "language": "python",
   "name": "python3"
  },
  "language_info": {
   "codemirror_mode": {
    "name": "ipython",
    "version": 3
   },
   "file_extension": ".py",
   "mimetype": "text/x-python",
   "name": "python",
   "nbconvert_exporter": "python",
   "pygments_lexer": "ipython3",
   "version": "3.12.2"
  }
 },
 "nbformat": 4,
 "nbformat_minor": 5
}
